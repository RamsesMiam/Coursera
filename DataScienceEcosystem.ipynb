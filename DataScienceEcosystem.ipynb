{
 "cells": [
  {
   "cell_type": "markdown",
   "id": "2a7b71c6-8009-4b30-92ee-3c05ff76217a",
   "metadata": {},
   "source": [
    "# Data Science Tools and Ecosystem"
   ]
  },
  {
   "cell_type": "markdown",
   "id": "1a526f32-57fb-4527-ae54-69ef82d95974",
   "metadata": {},
   "source": [
    "## Author\n",
    "Ramses Alejandro Miam Suárez"
   ]
  },
  {
   "cell_type": "markdown",
   "id": "7e2fd023-4ffd-4097-aa0d-b298f016df90",
   "metadata": {},
   "source": [
    "In this notebook, Data Science Tools and Ecosystem are summarized."
   ]
  },
  {
   "cell_type": "markdown",
   "id": "59d58855-bd26-4b23-a972-5a61613442dc",
   "metadata": {},
   "source": [
    "**Objectives:**\n",
    "\n",
    "+ List popular languages for Data Science\n",
    "+ Lits libraries commonly used by data scientists\n",
    "+ List popular Data Science Tools\n",
    "+ Show examples of arithmetic expressions in python"
   ]
  },
  {
   "cell_type": "markdown",
   "id": "8b682ff8-561b-4e85-a9dc-2cc0db499c47",
   "metadata": {},
   "source": [
    "Some of the popular languages that Data Scientists use are:\n",
    "\n",
    "1. Python\n",
    "2. R\n",
    "3. SQL"
   ]
  },
  {
   "cell_type": "markdown",
   "id": "9dfbb2a9-6487-4b3f-89b2-21ea9f32e9bf",
   "metadata": {},
   "source": [
    "Some of the commonly used libraries used by Data Scientists include:\n",
    "\n",
    "1. Pandas (Python)\n",
    "2. Numpy (Python)\n",
    "3. Matplotlib (Python)\n",
    "4. Scikit-learn (Python)\n",
    "5.  ggplot2 (R)"
   ]
  },
  {
   "cell_type": "markdown",
   "id": "f818dee5-f4a8-4ee1-82af-793a74978d00",
   "metadata": {},
   "source": [
    "|Data Science Tools|\n",
    "|-------------------|\n",
    "|Jupyter notebooks|\n",
    "|Spyder|\n",
    "|Rstudio|"
   ]
  },
  {
   "cell_type": "markdown",
   "id": "53652fd3-c061-4d9c-9480-d822b25b0914",
   "metadata": {},
   "source": [
    "### Below are a few examples of evaluating arithmetic expressions in Python.\n"
   ]
  },
  {
   "cell_type": "code",
   "execution_count": 7,
   "id": "b01c73c2-3575-4122-908e-89d3ed79eaf4",
   "metadata": {},
   "outputs": [
    {
     "data": {
      "text/plain": [
       "17"
      ]
     },
     "execution_count": 7,
     "metadata": {},
     "output_type": "execute_result"
    }
   ],
   "source": [
    "# This a simple arithmetic expression to mutiply then add integers (3, 4 and 5):\n",
    "(3*4)+5"
   ]
  },
  {
   "cell_type": "code",
   "execution_count": 8,
   "id": "9688557f-ad37-42c3-9349-9a80b973c9d8",
   "metadata": {},
   "outputs": [
    {
     "name": "stdout",
     "output_type": "stream",
     "text": [
      "3.3333333333333335\n"
     ]
    }
   ],
   "source": [
    "#This will convert 200 minutes to hours by diving by 60\n",
    "hours = 200/60\n",
    "print(hours)"
   ]
  },
  {
   "cell_type": "code",
   "execution_count": null,
   "id": "136d9800-8d86-417f-be4c-38d46355e4bf",
   "metadata": {},
   "outputs": [],
   "source": []
  }
 ],
 "metadata": {
  "kernelspec": {
   "display_name": "Python 3 (ipykernel)",
   "language": "python",
   "name": "python3"
  },
  "language_info": {
   "codemirror_mode": {
    "name": "ipython",
    "version": 3
   },
   "file_extension": ".py",
   "mimetype": "text/x-python",
   "name": "python",
   "nbconvert_exporter": "python",
   "pygments_lexer": "ipython3",
   "version": "3.12.4"
  }
 },
 "nbformat": 4,
 "nbformat_minor": 5
}
